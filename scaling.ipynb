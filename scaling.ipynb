{
 "cells": [
  {
   "cell_type": "markdown",
   "id": "9ec52da2",
   "metadata": {},
   "source": [
    "# Scaling Numeric Data\n",
    "## Exercises\n",
    "\n",
    "\n",
    "### Use the zillow dataset you acquired and prepped in previous lesson. Once you are finished, you may wish to repeat the exercises on another dataset for additional practice.\n",
    "\n",
    "1) Apply the scalers we talked about in this lesson to your data and visualize the results for the unscaled and scaled distribution.\n",
    "\n",
    "2) Apply the .inverse_transform method to your scaled data. Is the resulting dataset the exact same as the original data?\n",
    "\n",
    "3) Read the documentation for sklearn's QuantileTransformer. Use normal for the output_distribution and apply this scaler to your data. Visualize the result of your data scaling.\n",
    "\n",
    "4) Use the QuantileTransformer, but omit the output_distribution argument. Visualize your results. What do you notice?\n",
    "\n",
    "5) Based on the work you've done, choose a scaling method for your dataset. Write a function within your prepare.py that accepts as input the train, validate, and test data splits, and returns the scaled versions of each. Be sure to only learn the parameters for scaling from your training data!"
   ]
  },
  {
   "cell_type": "code",
   "execution_count": 1,
   "id": "baf25800",
   "metadata": {},
   "outputs": [
    {
     "name": "stdout",
     "output_type": "stream",
     "text": [
      "(2134889, 8)\n",
      "(2096851, 8)\n"
     ]
    }
   ],
   "source": [
    "import numpy as np\n",
    "import seaborn as sns\n",
    "import scipy.stats as stats\n",
    "import pandas as pd\n",
    "import matplotlib.pyplot as plt\n",
    "import env\n",
    "from pydataset import data\n",
    "import scipy\n",
    "import os\n",
    "import sklearn.preprocessing\n",
    "from sklearn.model_selection import train_test_split\n",
    "import wrangle\n",
    "from sklearn.neighbors import KNeighborsClassifier\n",
    "from sklearn.preprocessing import MinMaxScaler, StandardScaler, RobustScaler\n"
   ]
  },
  {
   "cell_type": "code",
   "execution_count": 2,
   "id": "da4d1889",
   "metadata": {},
   "outputs": [],
   "source": [
    "train = wrangle.train\n",
    "validate = wrangle.validate\n",
    "test = wrangle.test"
   ]
  },
  {
   "cell_type": "markdown",
   "id": "2a27d472",
   "metadata": {},
   "source": [
    "### visualizing split data train, validate, and test "
   ]
  },
  {
   "cell_type": "code",
   "execution_count": 3,
   "id": "d9930a2b",
   "metadata": {},
   "outputs": [
    {
     "data": {
      "text/html": [
       "<div>\n",
       "<style scoped>\n",
       "    .dataframe tbody tr th:only-of-type {\n",
       "        vertical-align: middle;\n",
       "    }\n",
       "\n",
       "    .dataframe tbody tr th {\n",
       "        vertical-align: top;\n",
       "    }\n",
       "\n",
       "    .dataframe thead th {\n",
       "        text-align: right;\n",
       "    }\n",
       "</style>\n",
       "<table border=\"1\" class=\"dataframe\">\n",
       "  <thead>\n",
       "    <tr style=\"text-align: right;\">\n",
       "      <th></th>\n",
       "      <th>parcelid</th>\n",
       "      <th>bedroomcnt</th>\n",
       "      <th>bathroomcnt</th>\n",
       "      <th>calculatedfinishedsquarefeet</th>\n",
       "      <th>taxvaluedollarcnt</th>\n",
       "      <th>yearbuilt</th>\n",
       "      <th>taxamount</th>\n",
       "      <th>fips</th>\n",
       "    </tr>\n",
       "  </thead>\n",
       "  <tbody>\n",
       "    <tr>\n",
       "      <th>1349905</th>\n",
       "      <td>11911489</td>\n",
       "      <td>6.0</td>\n",
       "      <td>3.0</td>\n",
       "      <td>2449.0</td>\n",
       "      <td>432773.0</td>\n",
       "      <td>1947</td>\n",
       "      <td>5931.25</td>\n",
       "      <td>6037</td>\n",
       "    </tr>\n",
       "    <tr>\n",
       "      <th>258766</th>\n",
       "      <td>17138706</td>\n",
       "      <td>3.0</td>\n",
       "      <td>2.0</td>\n",
       "      <td>1599.0</td>\n",
       "      <td>211452.0</td>\n",
       "      <td>1976</td>\n",
       "      <td>2261.32</td>\n",
       "      <td>6111</td>\n",
       "    </tr>\n",
       "    <tr>\n",
       "      <th>1244806</th>\n",
       "      <td>12815284</td>\n",
       "      <td>4.0</td>\n",
       "      <td>3.0</td>\n",
       "      <td>1969.0</td>\n",
       "      <td>380466.0</td>\n",
       "      <td>1965</td>\n",
       "      <td>4570.03</td>\n",
       "      <td>6037</td>\n",
       "    </tr>\n",
       "    <tr>\n",
       "      <th>667578</th>\n",
       "      <td>14105307</td>\n",
       "      <td>5.0</td>\n",
       "      <td>2.5</td>\n",
       "      <td>2085.0</td>\n",
       "      <td>202010.0</td>\n",
       "      <td>1955</td>\n",
       "      <td>2527.40</td>\n",
       "      <td>6059</td>\n",
       "    </tr>\n",
       "    <tr>\n",
       "      <th>882530</th>\n",
       "      <td>11010017</td>\n",
       "      <td>6.0</td>\n",
       "      <td>5.0</td>\n",
       "      <td>4922.0</td>\n",
       "      <td>1107030.0</td>\n",
       "      <td>2002</td>\n",
       "      <td>13622.19</td>\n",
       "      <td>6037</td>\n",
       "    </tr>\n",
       "    <tr>\n",
       "      <th>...</th>\n",
       "      <td>...</td>\n",
       "      <td>...</td>\n",
       "      <td>...</td>\n",
       "      <td>...</td>\n",
       "      <td>...</td>\n",
       "      <td>...</td>\n",
       "      <td>...</td>\n",
       "      <td>...</td>\n",
       "    </tr>\n",
       "    <tr>\n",
       "      <th>728188</th>\n",
       "      <td>12823382</td>\n",
       "      <td>3.0</td>\n",
       "      <td>2.0</td>\n",
       "      <td>1545.0</td>\n",
       "      <td>327671.0</td>\n",
       "      <td>1951</td>\n",
       "      <td>4082.33</td>\n",
       "      <td>6037</td>\n",
       "    </tr>\n",
       "    <tr>\n",
       "      <th>1285982</th>\n",
       "      <td>12199184</td>\n",
       "      <td>2.0</td>\n",
       "      <td>1.0</td>\n",
       "      <td>1656.0</td>\n",
       "      <td>32357.0</td>\n",
       "      <td>1909</td>\n",
       "      <td>940.08</td>\n",
       "      <td>6037</td>\n",
       "    </tr>\n",
       "    <tr>\n",
       "      <th>1929500</th>\n",
       "      <td>11345782</td>\n",
       "      <td>4.0</td>\n",
       "      <td>3.0</td>\n",
       "      <td>2544.0</td>\n",
       "      <td>514071.0</td>\n",
       "      <td>1999</td>\n",
       "      <td>6987.84</td>\n",
       "      <td>6037</td>\n",
       "    </tr>\n",
       "    <tr>\n",
       "      <th>1770542</th>\n",
       "      <td>12300227</td>\n",
       "      <td>4.0</td>\n",
       "      <td>3.0</td>\n",
       "      <td>2512.0</td>\n",
       "      <td>399925.0</td>\n",
       "      <td>1947</td>\n",
       "      <td>5213.92</td>\n",
       "      <td>6037</td>\n",
       "    </tr>\n",
       "    <tr>\n",
       "      <th>878961</th>\n",
       "      <td>12849444</td>\n",
       "      <td>4.0</td>\n",
       "      <td>4.0</td>\n",
       "      <td>3164.0</td>\n",
       "      <td>672576.0</td>\n",
       "      <td>1996</td>\n",
       "      <td>7796.71</td>\n",
       "      <td>6037</td>\n",
       "    </tr>\n",
       "  </tbody>\n",
       "</table>\n",
       "<p>1174236 rows × 8 columns</p>\n",
       "</div>"
      ],
      "text/plain": [
       "         parcelid  bedroomcnt  bathroomcnt  calculatedfinishedsquarefeet  \\\n",
       "1349905  11911489         6.0          3.0                        2449.0   \n",
       "258766   17138706         3.0          2.0                        1599.0   \n",
       "1244806  12815284         4.0          3.0                        1969.0   \n",
       "667578   14105307         5.0          2.5                        2085.0   \n",
       "882530   11010017         6.0          5.0                        4922.0   \n",
       "...           ...         ...          ...                           ...   \n",
       "728188   12823382         3.0          2.0                        1545.0   \n",
       "1285982  12199184         2.0          1.0                        1656.0   \n",
       "1929500  11345782         4.0          3.0                        2544.0   \n",
       "1770542  12300227         4.0          3.0                        2512.0   \n",
       "878961   12849444         4.0          4.0                        3164.0   \n",
       "\n",
       "         taxvaluedollarcnt  yearbuilt  taxamount  fips  \n",
       "1349905           432773.0       1947    5931.25  6037  \n",
       "258766            211452.0       1976    2261.32  6111  \n",
       "1244806           380466.0       1965    4570.03  6037  \n",
       "667578            202010.0       1955    2527.40  6059  \n",
       "882530           1107030.0       2002   13622.19  6037  \n",
       "...                    ...        ...        ...   ...  \n",
       "728188            327671.0       1951    4082.33  6037  \n",
       "1285982            32357.0       1909     940.08  6037  \n",
       "1929500           514071.0       1999    6987.84  6037  \n",
       "1770542           399925.0       1947    5213.92  6037  \n",
       "878961            672576.0       1996    7796.71  6037  \n",
       "\n",
       "[1174236 rows x 8 columns]"
      ]
     },
     "execution_count": 3,
     "metadata": {},
     "output_type": "execute_result"
    }
   ],
   "source": [
    "train"
   ]
  },
  {
   "cell_type": "code",
   "execution_count": 4,
   "id": "a92d50ea",
   "metadata": {},
   "outputs": [
    {
     "data": {
      "text/html": [
       "<div>\n",
       "<style scoped>\n",
       "    .dataframe tbody tr th:only-of-type {\n",
       "        vertical-align: middle;\n",
       "    }\n",
       "\n",
       "    .dataframe tbody tr th {\n",
       "        vertical-align: top;\n",
       "    }\n",
       "\n",
       "    .dataframe thead th {\n",
       "        text-align: right;\n",
       "    }\n",
       "</style>\n",
       "<table border=\"1\" class=\"dataframe\">\n",
       "  <thead>\n",
       "    <tr style=\"text-align: right;\">\n",
       "      <th></th>\n",
       "      <th>parcelid</th>\n",
       "      <th>bedroomcnt</th>\n",
       "      <th>bathroomcnt</th>\n",
       "      <th>calculatedfinishedsquarefeet</th>\n",
       "      <th>taxvaluedollarcnt</th>\n",
       "      <th>yearbuilt</th>\n",
       "      <th>taxamount</th>\n",
       "      <th>fips</th>\n",
       "    </tr>\n",
       "  </thead>\n",
       "  <tbody>\n",
       "    <tr>\n",
       "      <th>1412298</th>\n",
       "      <td>11016387</td>\n",
       "      <td>3.0</td>\n",
       "      <td>2.0</td>\n",
       "      <td>1854.0</td>\n",
       "      <td>283044.0</td>\n",
       "      <td>1961</td>\n",
       "      <td>3601.36</td>\n",
       "      <td>6037</td>\n",
       "    </tr>\n",
       "    <tr>\n",
       "      <th>1641778</th>\n",
       "      <td>12378229</td>\n",
       "      <td>2.0</td>\n",
       "      <td>3.0</td>\n",
       "      <td>1153.0</td>\n",
       "      <td>198634.0</td>\n",
       "      <td>1923</td>\n",
       "      <td>3309.64</td>\n",
       "      <td>6037</td>\n",
       "    </tr>\n",
       "    <tr>\n",
       "      <th>334609</th>\n",
       "      <td>10763511</td>\n",
       "      <td>3.0</td>\n",
       "      <td>2.0</td>\n",
       "      <td>1530.0</td>\n",
       "      <td>219055.0</td>\n",
       "      <td>1951</td>\n",
       "      <td>2755.15</td>\n",
       "      <td>6037</td>\n",
       "    </tr>\n",
       "    <tr>\n",
       "      <th>1444550</th>\n",
       "      <td>10994385</td>\n",
       "      <td>3.0</td>\n",
       "      <td>2.0</td>\n",
       "      <td>1183.0</td>\n",
       "      <td>445278.0</td>\n",
       "      <td>1951</td>\n",
       "      <td>5357.36</td>\n",
       "      <td>6037</td>\n",
       "    </tr>\n",
       "    <tr>\n",
       "      <th>1598351</th>\n",
       "      <td>12238672</td>\n",
       "      <td>3.0</td>\n",
       "      <td>1.0</td>\n",
       "      <td>1104.0</td>\n",
       "      <td>38266.0</td>\n",
       "      <td>1953</td>\n",
       "      <td>961.10</td>\n",
       "      <td>6037</td>\n",
       "    </tr>\n",
       "    <tr>\n",
       "      <th>...</th>\n",
       "      <td>...</td>\n",
       "      <td>...</td>\n",
       "      <td>...</td>\n",
       "      <td>...</td>\n",
       "      <td>...</td>\n",
       "      <td>...</td>\n",
       "      <td>...</td>\n",
       "      <td>...</td>\n",
       "    </tr>\n",
       "    <tr>\n",
       "      <th>1438910</th>\n",
       "      <td>12869522</td>\n",
       "      <td>3.0</td>\n",
       "      <td>2.0</td>\n",
       "      <td>1148.0</td>\n",
       "      <td>476000.0</td>\n",
       "      <td>1952</td>\n",
       "      <td>5805.97</td>\n",
       "      <td>6037</td>\n",
       "    </tr>\n",
       "    <tr>\n",
       "      <th>779459</th>\n",
       "      <td>12078574</td>\n",
       "      <td>4.0</td>\n",
       "      <td>4.0</td>\n",
       "      <td>2984.0</td>\n",
       "      <td>843019.0</td>\n",
       "      <td>1989</td>\n",
       "      <td>9256.81</td>\n",
       "      <td>6037</td>\n",
       "    </tr>\n",
       "    <tr>\n",
       "      <th>791688</th>\n",
       "      <td>12484901</td>\n",
       "      <td>3.0</td>\n",
       "      <td>1.0</td>\n",
       "      <td>1138.0</td>\n",
       "      <td>72854.0</td>\n",
       "      <td>1950</td>\n",
       "      <td>1176.86</td>\n",
       "      <td>6037</td>\n",
       "    </tr>\n",
       "    <tr>\n",
       "      <th>1243004</th>\n",
       "      <td>12250497</td>\n",
       "      <td>2.0</td>\n",
       "      <td>1.0</td>\n",
       "      <td>640.0</td>\n",
       "      <td>44794.0</td>\n",
       "      <td>1921</td>\n",
       "      <td>722.00</td>\n",
       "      <td>6037</td>\n",
       "    </tr>\n",
       "    <tr>\n",
       "      <th>684689</th>\n",
       "      <td>12697873</td>\n",
       "      <td>4.0</td>\n",
       "      <td>5.0</td>\n",
       "      <td>3902.0</td>\n",
       "      <td>891981.0</td>\n",
       "      <td>1955</td>\n",
       "      <td>10794.10</td>\n",
       "      <td>6037</td>\n",
       "    </tr>\n",
       "  </tbody>\n",
       "</table>\n",
       "<p>503244 rows × 8 columns</p>\n",
       "</div>"
      ],
      "text/plain": [
       "         parcelid  bedroomcnt  bathroomcnt  calculatedfinishedsquarefeet  \\\n",
       "1412298  11016387         3.0          2.0                        1854.0   \n",
       "1641778  12378229         2.0          3.0                        1153.0   \n",
       "334609   10763511         3.0          2.0                        1530.0   \n",
       "1444550  10994385         3.0          2.0                        1183.0   \n",
       "1598351  12238672         3.0          1.0                        1104.0   \n",
       "...           ...         ...          ...                           ...   \n",
       "1438910  12869522         3.0          2.0                        1148.0   \n",
       "779459   12078574         4.0          4.0                        2984.0   \n",
       "791688   12484901         3.0          1.0                        1138.0   \n",
       "1243004  12250497         2.0          1.0                         640.0   \n",
       "684689   12697873         4.0          5.0                        3902.0   \n",
       "\n",
       "         taxvaluedollarcnt  yearbuilt  taxamount  fips  \n",
       "1412298           283044.0       1961    3601.36  6037  \n",
       "1641778           198634.0       1923    3309.64  6037  \n",
       "334609            219055.0       1951    2755.15  6037  \n",
       "1444550           445278.0       1951    5357.36  6037  \n",
       "1598351            38266.0       1953     961.10  6037  \n",
       "...                    ...        ...        ...   ...  \n",
       "1438910           476000.0       1952    5805.97  6037  \n",
       "779459            843019.0       1989    9256.81  6037  \n",
       "791688             72854.0       1950    1176.86  6037  \n",
       "1243004            44794.0       1921     722.00  6037  \n",
       "684689            891981.0       1955   10794.10  6037  \n",
       "\n",
       "[503244 rows x 8 columns]"
      ]
     },
     "execution_count": 4,
     "metadata": {},
     "output_type": "execute_result"
    }
   ],
   "source": [
    "validate"
   ]
  },
  {
   "cell_type": "code",
   "execution_count": 5,
   "id": "50e23221",
   "metadata": {},
   "outputs": [
    {
     "data": {
      "text/html": [
       "<div>\n",
       "<style scoped>\n",
       "    .dataframe tbody tr th:only-of-type {\n",
       "        vertical-align: middle;\n",
       "    }\n",
       "\n",
       "    .dataframe tbody tr th {\n",
       "        vertical-align: top;\n",
       "    }\n",
       "\n",
       "    .dataframe thead th {\n",
       "        text-align: right;\n",
       "    }\n",
       "</style>\n",
       "<table border=\"1\" class=\"dataframe\">\n",
       "  <thead>\n",
       "    <tr style=\"text-align: right;\">\n",
       "      <th></th>\n",
       "      <th>parcelid</th>\n",
       "      <th>bedroomcnt</th>\n",
       "      <th>bathroomcnt</th>\n",
       "      <th>calculatedfinishedsquarefeet</th>\n",
       "      <th>taxvaluedollarcnt</th>\n",
       "      <th>yearbuilt</th>\n",
       "      <th>taxamount</th>\n",
       "      <th>fips</th>\n",
       "    </tr>\n",
       "  </thead>\n",
       "  <tbody>\n",
       "    <tr>\n",
       "      <th>1489530</th>\n",
       "      <td>11756252</td>\n",
       "      <td>3.0</td>\n",
       "      <td>1.0</td>\n",
       "      <td>1709.0</td>\n",
       "      <td>456955.0</td>\n",
       "      <td>1923</td>\n",
       "      <td>5586.16</td>\n",
       "      <td>6037</td>\n",
       "    </tr>\n",
       "    <tr>\n",
       "      <th>733304</th>\n",
       "      <td>10816182</td>\n",
       "      <td>4.0</td>\n",
       "      <td>3.0</td>\n",
       "      <td>2398.0</td>\n",
       "      <td>384626.0</td>\n",
       "      <td>1950</td>\n",
       "      <td>4737.45</td>\n",
       "      <td>6037</td>\n",
       "    </tr>\n",
       "    <tr>\n",
       "      <th>162905</th>\n",
       "      <td>10846793</td>\n",
       "      <td>2.0</td>\n",
       "      <td>1.0</td>\n",
       "      <td>1014.0</td>\n",
       "      <td>89135.0</td>\n",
       "      <td>1948</td>\n",
       "      <td>1114.93</td>\n",
       "      <td>6037</td>\n",
       "    </tr>\n",
       "    <tr>\n",
       "      <th>1637601</th>\n",
       "      <td>10797523</td>\n",
       "      <td>2.0</td>\n",
       "      <td>3.0</td>\n",
       "      <td>2416.0</td>\n",
       "      <td>800000.0</td>\n",
       "      <td>1954</td>\n",
       "      <td>9730.20</td>\n",
       "      <td>6037</td>\n",
       "    </tr>\n",
       "    <tr>\n",
       "      <th>221776</th>\n",
       "      <td>12771827</td>\n",
       "      <td>4.0</td>\n",
       "      <td>2.0</td>\n",
       "      <td>1955.0</td>\n",
       "      <td>174264.0</td>\n",
       "      <td>1978</td>\n",
       "      <td>2405.11</td>\n",
       "      <td>6037</td>\n",
       "    </tr>\n",
       "    <tr>\n",
       "      <th>...</th>\n",
       "      <td>...</td>\n",
       "      <td>...</td>\n",
       "      <td>...</td>\n",
       "      <td>...</td>\n",
       "      <td>...</td>\n",
       "      <td>...</td>\n",
       "      <td>...</td>\n",
       "      <td>...</td>\n",
       "    </tr>\n",
       "    <tr>\n",
       "      <th>1668235</th>\n",
       "      <td>14328284</td>\n",
       "      <td>4.0</td>\n",
       "      <td>3.0</td>\n",
       "      <td>2407.0</td>\n",
       "      <td>852619.0</td>\n",
       "      <td>2004</td>\n",
       "      <td>11417.46</td>\n",
       "      <td>6059</td>\n",
       "    </tr>\n",
       "    <tr>\n",
       "      <th>1580991</th>\n",
       "      <td>14199403</td>\n",
       "      <td>3.0</td>\n",
       "      <td>2.0</td>\n",
       "      <td>1680.0</td>\n",
       "      <td>315671.0</td>\n",
       "      <td>1984</td>\n",
       "      <td>3906.66</td>\n",
       "      <td>6059</td>\n",
       "    </tr>\n",
       "    <tr>\n",
       "      <th>1305535</th>\n",
       "      <td>11317009</td>\n",
       "      <td>3.0</td>\n",
       "      <td>2.0</td>\n",
       "      <td>1080.0</td>\n",
       "      <td>141451.0</td>\n",
       "      <td>1992</td>\n",
       "      <td>2528.86</td>\n",
       "      <td>6037</td>\n",
       "    </tr>\n",
       "    <tr>\n",
       "      <th>1408656</th>\n",
       "      <td>14145336</td>\n",
       "      <td>4.0</td>\n",
       "      <td>3.0</td>\n",
       "      <td>2789.0</td>\n",
       "      <td>163057.0</td>\n",
       "      <td>1962</td>\n",
       "      <td>2036.84</td>\n",
       "      <td>6059</td>\n",
       "    </tr>\n",
       "    <tr>\n",
       "      <th>752546</th>\n",
       "      <td>14377059</td>\n",
       "      <td>6.0</td>\n",
       "      <td>4.0</td>\n",
       "      <td>2552.0</td>\n",
       "      <td>499778.0</td>\n",
       "      <td>1964</td>\n",
       "      <td>5096.20</td>\n",
       "      <td>6059</td>\n",
       "    </tr>\n",
       "  </tbody>\n",
       "</table>\n",
       "<p>419371 rows × 8 columns</p>\n",
       "</div>"
      ],
      "text/plain": [
       "         parcelid  bedroomcnt  bathroomcnt  calculatedfinishedsquarefeet  \\\n",
       "1489530  11756252         3.0          1.0                        1709.0   \n",
       "733304   10816182         4.0          3.0                        2398.0   \n",
       "162905   10846793         2.0          1.0                        1014.0   \n",
       "1637601  10797523         2.0          3.0                        2416.0   \n",
       "221776   12771827         4.0          2.0                        1955.0   \n",
       "...           ...         ...          ...                           ...   \n",
       "1668235  14328284         4.0          3.0                        2407.0   \n",
       "1580991  14199403         3.0          2.0                        1680.0   \n",
       "1305535  11317009         3.0          2.0                        1080.0   \n",
       "1408656  14145336         4.0          3.0                        2789.0   \n",
       "752546   14377059         6.0          4.0                        2552.0   \n",
       "\n",
       "         taxvaluedollarcnt  yearbuilt  taxamount  fips  \n",
       "1489530           456955.0       1923    5586.16  6037  \n",
       "733304            384626.0       1950    4737.45  6037  \n",
       "162905             89135.0       1948    1114.93  6037  \n",
       "1637601           800000.0       1954    9730.20  6037  \n",
       "221776            174264.0       1978    2405.11  6037  \n",
       "...                    ...        ...        ...   ...  \n",
       "1668235           852619.0       2004   11417.46  6059  \n",
       "1580991           315671.0       1984    3906.66  6059  \n",
       "1305535           141451.0       1992    2528.86  6037  \n",
       "1408656           163057.0       1962    2036.84  6059  \n",
       "752546            499778.0       1964    5096.20  6059  \n",
       "\n",
       "[419371 rows x 8 columns]"
      ]
     },
     "execution_count": 5,
     "metadata": {},
     "output_type": "execute_result"
    }
   ],
   "source": [
    "test"
   ]
  },
  {
   "cell_type": "markdown",
   "id": "a79f220c",
   "metadata": {},
   "source": [
    "***"
   ]
  },
  {
   "cell_type": "markdown",
   "id": "0c17950d",
   "metadata": {},
   "source": [
    "### shape of train, test, and validate"
   ]
  },
  {
   "cell_type": "code",
   "execution_count": 6,
   "id": "ddc52099",
   "metadata": {},
   "outputs": [
    {
     "name": "stdout",
     "output_type": "stream",
     "text": [
      "train shape: 1174236 x 8\n",
      "test shape: 419371 x 8\n"
     ]
    },
    {
     "data": {
      "text/html": [
       "<div>\n",
       "<style scoped>\n",
       "    .dataframe tbody tr th:only-of-type {\n",
       "        vertical-align: middle;\n",
       "    }\n",
       "\n",
       "    .dataframe tbody tr th {\n",
       "        vertical-align: top;\n",
       "    }\n",
       "\n",
       "    .dataframe thead th {\n",
       "        text-align: right;\n",
       "    }\n",
       "</style>\n",
       "<table border=\"1\" class=\"dataframe\">\n",
       "  <thead>\n",
       "    <tr style=\"text-align: right;\">\n",
       "      <th></th>\n",
       "      <th>parcelid</th>\n",
       "      <th>bedroomcnt</th>\n",
       "      <th>bathroomcnt</th>\n",
       "      <th>calculatedfinishedsquarefeet</th>\n",
       "      <th>taxvaluedollarcnt</th>\n",
       "      <th>yearbuilt</th>\n",
       "      <th>taxamount</th>\n",
       "      <th>fips</th>\n",
       "    </tr>\n",
       "  </thead>\n",
       "  <tbody>\n",
       "    <tr>\n",
       "      <th>1349905</th>\n",
       "      <td>11911489</td>\n",
       "      <td>6.0</td>\n",
       "      <td>3.0</td>\n",
       "      <td>2449.0</td>\n",
       "      <td>432773.0</td>\n",
       "      <td>1947</td>\n",
       "      <td>5931.25</td>\n",
       "      <td>6037</td>\n",
       "    </tr>\n",
       "    <tr>\n",
       "      <th>258766</th>\n",
       "      <td>17138706</td>\n",
       "      <td>3.0</td>\n",
       "      <td>2.0</td>\n",
       "      <td>1599.0</td>\n",
       "      <td>211452.0</td>\n",
       "      <td>1976</td>\n",
       "      <td>2261.32</td>\n",
       "      <td>6111</td>\n",
       "    </tr>\n",
       "    <tr>\n",
       "      <th>1244806</th>\n",
       "      <td>12815284</td>\n",
       "      <td>4.0</td>\n",
       "      <td>3.0</td>\n",
       "      <td>1969.0</td>\n",
       "      <td>380466.0</td>\n",
       "      <td>1965</td>\n",
       "      <td>4570.03</td>\n",
       "      <td>6037</td>\n",
       "    </tr>\n",
       "    <tr>\n",
       "      <th>667578</th>\n",
       "      <td>14105307</td>\n",
       "      <td>5.0</td>\n",
       "      <td>2.5</td>\n",
       "      <td>2085.0</td>\n",
       "      <td>202010.0</td>\n",
       "      <td>1955</td>\n",
       "      <td>2527.40</td>\n",
       "      <td>6059</td>\n",
       "    </tr>\n",
       "    <tr>\n",
       "      <th>882530</th>\n",
       "      <td>11010017</td>\n",
       "      <td>6.0</td>\n",
       "      <td>5.0</td>\n",
       "      <td>4922.0</td>\n",
       "      <td>1107030.0</td>\n",
       "      <td>2002</td>\n",
       "      <td>13622.19</td>\n",
       "      <td>6037</td>\n",
       "    </tr>\n",
       "  </tbody>\n",
       "</table>\n",
       "</div>"
      ],
      "text/plain": [
       "         parcelid  bedroomcnt  bathroomcnt  calculatedfinishedsquarefeet  \\\n",
       "1349905  11911489         6.0          3.0                        2449.0   \n",
       "258766   17138706         3.0          2.0                        1599.0   \n",
       "1244806  12815284         4.0          3.0                        1969.0   \n",
       "667578   14105307         5.0          2.5                        2085.0   \n",
       "882530   11010017         6.0          5.0                        4922.0   \n",
       "\n",
       "         taxvaluedollarcnt  yearbuilt  taxamount  fips  \n",
       "1349905           432773.0       1947    5931.25  6037  \n",
       "258766            211452.0       1976    2261.32  6111  \n",
       "1244806           380466.0       1965    4570.03  6037  \n",
       "667578            202010.0       1955    2527.40  6059  \n",
       "882530           1107030.0       2002   13622.19  6037  "
      ]
     },
     "execution_count": 6,
     "metadata": {},
     "output_type": "execute_result"
    }
   ],
   "source": [
    "print('train shape: %d x %d' % train.shape)\n",
    "print('test shape: %d x %d' % test.shape)\n",
    "train.head()"
   ]
  },
  {
   "cell_type": "markdown",
   "id": "2d5aa9c0",
   "metadata": {},
   "source": [
    "***"
   ]
  },
  {
   "cell_type": "markdown",
   "id": "a2ebba76",
   "metadata": {},
   "source": [
    "### Fit and scale function "
   ]
  },
  {
   "cell_type": "code",
   "execution_count": 7,
   "id": "df021089",
   "metadata": {},
   "outputs": [],
   "source": [
    "def fit_and_scale(scaler, train, validate, test):\n",
    "    # only scales float columns\n",
    "    floats = train.select_dtypes(include='float64').columns\n",
    "    # fits scaler to training data only, then transforms\n",
    "    # train, validate & test\n",
    "    scaler.fit(train[floats])\n",
    "    scaled_train = pd.DataFrame(data=scaler.transform(train[floats]), columns=floats)\n",
    "    scaled_validate = pd.DataFrame(data=scaler.transform(validate[floats]), columns=floats)\n",
    "    scaled_test = pd.DataFrame(data=scaler.transform(test[floats]), columns=floats)\n",
    "    return scaled_train, scaled_validate, scaled_test"
   ]
  },
  {
   "cell_type": "markdown",
   "id": "6e4f00d1",
   "metadata": {},
   "source": [
    "***"
   ]
  },
  {
   "cell_type": "markdown",
   "id": "8a19debe",
   "metadata": {},
   "source": [
    "### 1) Visualize the results for the unscaled and scaled distribution . "
   ]
  },
  {
   "cell_type": "markdown",
   "id": "cf65a4c3",
   "metadata": {},
   "source": [
    "### Min-Max Scaling"
   ]
  },
  {
   "cell_type": "code",
   "execution_count": 8,
   "id": "55591bc0",
   "metadata": {
    "scrolled": false
   },
   "outputs": [
    {
     "data": {
      "image/png": "[encoded data removed]",
      "text/plain": [
       "<Figure size 936x432 with 2 Axes>"
      ]
     },
     "metadata": {
      "needs_background": "light"
     },
     "output_type": "display_data"
    },
    {
     "data": {
      "image/png": "[encoded data removed]",
      "text/plain": [
       "<Figure size 936x432 with 2 Axes>"
      ]
     },
     "metadata": {
      "needs_background": "light"
     },
     "output_type": "display_data"
    },
    {
     "data": {
      "image/png": "[encoded data removed]",
      "text/plain": [
       "<Figure size 936x432 with 2 Axes>"
      ]
     },
     "metadata": {
      "needs_background": "light"
     },
     "output_type": "display_data"
    },
    {
     "data": {
      "image/png": "[encoded data removed]",
      "text/plain": [
       "<Figure size 936x432 with 2 Axes>"
      ]
     },
     "metadata": {
      "needs_background": "light"
     },
     "output_type": "display_data"
    },
    {
     "data": {
      "image/png": "[encoded data removed]",
      "text/plain": [
       "<Figure size 936x432 with 2 Axes>"
      ]
     },
     "metadata": {
      "needs_background": "light"
     },
     "output_type": "display_data"
    }
   ],
   "source": [
    "# transforms the scale to 0-1 scale, from original:\n",
    "scaler = sklearn.preprocessing.MinMaxScaler()\n",
    "# Note that we only call .fit with the training data,\n",
    "# but we use .transform to apply the scaling to all the data splits.\n",
    "# we are creating a scaled dataset in addition to our unscaled original\n",
    "scaler.fit(train)\n",
    "# Note that we only call .fit with the training data,\n",
    "# but we use .transform to apply the scaling to all the data splits.\n",
    "# we are creating a scaled dataset in addition to our unscaled original\n",
    "min_max_train, min_max_validate, min_max_test = fit_and_scale(scaler, train, validate, test)\n",
    "quants = min_max_train.columns\n",
    "train_quants = train[quants]\n",
    "#print(train_quants)\n",
    "#---------------------------------------------------------------------------------------------------------------------\n",
    "for col in train_quants.columns:\n",
    "    plt.figure(figsize=(13, 6))\n",
    "    plt.subplot(121)\n",
    "    plt.hist(train[col], bins=25, ec='black')\n",
    "    plt.title('Original')\n",
    "    plt.subplot(122)\n",
    "    plt.hist(min_max_train[col], bins=25, ec='black')\n",
    "    plt.title('Scaled')\n",
    "    plt.xlabel(col)\n"
   ]
  },
  {
   "cell_type": "markdown",
   "id": "b5d32d62",
   "metadata": {},
   "source": [
    "***"
   ]
  },
  {
   "cell_type": "markdown",
   "id": "b6bbaef4",
   "metadata": {},
   "source": [
    "### Standard Scaler"
   ]
  },
  {
   "cell_type": "code",
   "execution_count": 9,
   "id": "93313dff",
   "metadata": {},
   "outputs": [
    {
     "data": {
      "image/png": "[encoded data removed]",
      "text/plain": [
       "<Figure size 936x432 with 2 Axes>"
      ]
     },
     "metadata": {
      "needs_background": "light"
     },
     "output_type": "display_data"
    },
    {
     "data": {
      "image/png": "[encoded data removed]",
      "text/plain": [
       "<Figure size 936x432 with 2 Axes>"
      ]
     },
     "metadata": {
      "needs_background": "light"
     },
     "output_type": "display_data"
    },
    {
     "data": {
      "image/png": "[encoded data removed]",
      "text/plain": [
       "<Figure size 936x432 with 2 Axes>"
      ]
     },
     "metadata": {
      "needs_background": "light"
     },
     "output_type": "display_data"
    },
    {
     "data": {
      "image/png": "[encoded data removed]",
      "text/plain": [
       "<Figure size 936x432 with 2 Axes>"
      ]
     },
     "metadata": {
      "needs_background": "light"
     },
     "output_type": "display_data"
    },
    {
     "data": {
      "image/png": "[encoded data removed]",
      "text/plain": [
       "<Figure size 936x432 with 2 Axes>"
      ]
     },
     "metadata": {
      "needs_background": "light"
     },
     "output_type": "display_data"
    }
   ],
   "source": [
    "scaler = sklearn.preprocessing.StandardScaler()\n",
    "# Note that we only call .fit with the training data,\n",
    "# but we use .transform to apply the scaling to all the data splits.\n",
    "scaler.fit(train)\n",
    "\n",
    "min_max_train, min_max_validate, min_max_test = fit_and_scale(scaler, train, validate, test)\n",
    "quants = min_max_train.columns\n",
    "train_quants = train[quants]\n",
    "\n",
    "#----------------------------------------------------------------------------------------------------------------------\n",
    "for col in train_quants.columns:\n",
    "    plt.figure(figsize=(13, 6))\n",
    "    plt.subplot(121)\n",
    "    plt.hist(train[col], bins=25, ec='black')\n",
    "    plt.title('Original')\n",
    "    plt.subplot(122)\n",
    "    plt.hist(min_max_train[col], bins=25, ec='black')\n",
    "    plt.title('Scaled')\n",
    "    plt.xlabel(col)\n"
   ]
  },
  {
   "cell_type": "markdown",
   "id": "0e0fa8ea",
   "metadata": {},
   "source": [
    "***"
   ]
  },
  {
   "cell_type": "markdown",
   "id": "2cba947f",
   "metadata": {},
   "source": [
    "### Robust scaler "
   ]
  },
  {
   "cell_type": "code",
   "execution_count": 10,
   "id": "305cf8f7",
   "metadata": {},
   "outputs": [
    {
     "data": {
      "image/png": "[encoded data removed]",
      "text/plain": [
       "<Figure size 936x432 with 2 Axes>"
      ]
     },
     "metadata": {
      "needs_background": "light"
     },
     "output_type": "display_data"
    },
    {
     "data": {
      "image/png": "[encoded data removed]",
      "text/plain": [
       "<Figure size 936x432 with 2 Axes>"
      ]
     },
     "metadata": {
      "needs_background": "light"
     },
     "output_type": "display_data"
    },
    {
     "data": {
      "image/png": "[encoded data removed]",
      "text/plain": [
       "<Figure size 936x432 with 2 Axes>"
      ]
     },
     "metadata": {
      "needs_background": "light"
     },
     "output_type": "display_data"
    },
    {
     "data": {
      "image/png": "[encoded data removed]",
      "text/plain": [
       "<Figure size 936x432 with 2 Axes>"
      ]
     },
     "metadata": {
      "needs_background": "light"
     },
     "output_type": "display_data"
    },
    {
     "data": {
      "image/png": "[encoded data removed]",
      "text/plain": [
       "<Figure size 936x432 with 2 Axes>"
      ]
     },
     "metadata": {
      "needs_background": "light"
     },
     "output_type": "display_data"
    }
   ],
   "source": [
    "scaler = sklearn.preprocessing.RobustScaler()\n",
    "# Note that we only call .fit with the training data,\n",
    "# but we use .transform to apply the scaling to all the data splits.\n",
    "scaler.fit(train)\n",
    "min_max_train, min_max_validate, min_max_test = fit_and_scale(scaler, train, validate, test)\n",
    "quants = min_max_train.columns\n",
    "train_quants = train[quants]\n",
    "\n",
    "#----------------------------------------------------------------------------------------------------------------------\n",
    "for col in train_quants.columns:\n",
    "    plt.figure(figsize=(13, 6))\n",
    "    plt.subplot(121)\n",
    "    plt.hist(train[col], bins=25, ec='black')\n",
    "    plt.title('Original')\n",
    "    plt.subplot(122)\n",
    "    plt.hist(min_max_train[col], bins=25, ec='black')\n",
    "    plt.title('Scaled')\n",
    "    plt.xlabel(col)"
   ]
  },
  {
   "cell_type": "markdown",
   "id": "86025c53",
   "metadata": {},
   "source": [
    "***"
   ]
  },
  {
   "cell_type": "markdown",
   "id": "a47e3ba0",
   "metadata": {},
   "source": [
    "### 2)Apply the .inverse_transform method to your scaled data. Is the resulting dataset the exact same as the original data?"
   ]
  },
  {
   "cell_type": "code",
   "execution_count": null,
   "id": "d0f2fbfc",
   "metadata": {},
   "outputs": [],
   "source": []
  }
 ],
 "metadata": {
  "kernelspec": {
   "display_name": "Python 3 (ipykernel)",
   "language": "python",
   "name": "python3"
  },
  "language_info": {
   "codemirror_mode": {
    "name": "ipython",
    "version": 3
   },
   "file_extension": ".py",
   "mimetype": "text/x-python",
   "name": "python",
   "nbconvert_exporter": "python",
   "pygments_lexer": "ipython3",
   "version": "3.9.7"
  }
 },
 "nbformat": 4,
 "nbformat_minor": 5
}
