{
 "cells": [
  {
   "cell_type": "markdown",
   "id": "7c981009",
   "metadata": {},
   "source": [
    "# Exercises\n",
    "Do you work for this exercise in either a jupyter notebook named evaluate within your regression-exercises repository. By the end of this exercise you will also create a python script named evaluate, so the overall deliverables for this exercise are the python script and jupyter notebook both with the name evaluate within your regression-exercises repo.\n",
    "\n",
    "1) Load your zillow dataset.\n",
    "\n",
    "2) Fit a linear regression model (ordinary least squares) and compute yhat, predictions of taxvaluedollarcnt using only calfulatedfinishedsqft.\n",
    "\n",
    "3) Plot the residuals for the linear regression model that you made.\n",
    "\n",
    "4) Calculate the sum of squared errors, explained sum of squares, total sum of squares, mean squared error, and root mean squared error for your model.\n",
    "\n",
    "5) Calculate the sum of squared errors, mean squared error, and root mean squared error for the baseline model (i.e. a model that always predicts the average taxvaluedollarcnt amount).\n",
    "\n",
    "6) Write python code that compares the sum of squared errors for your model against the sum of squared errors for the baseline model and outputs whether or not your model performs better than the baseline model.\n",
    "\n",
    "7) What is the amount of variance explained in your model?\n",
    "\n",
    "8) Is your model better than the baseline model?\n",
    "\n",
    "9) Create a file named evaluate.py that contains the following functions.\n",
    "\n",
    "- plot_residuals(y, yhat): creates a residual plot\n",
    "- regression_errors(y, yhat): returns the following values:\n",
    "- sum of squared errors (SSE)\n",
    "- explained sum of squares (ESS)\n",
    "- total sum of squares (TSS)\n",
    "- mean squared error (MSE)\n",
    "- root mean squared error (RMSE)\n",
    "- baseline_mean_errors(y): computes the SSE, MSE, and RMSE for the baseline model\n",
    "- better_than_baseline(y, yhat): returns true if your model performs better than the baseline, otherwise false\n"
   ]
  },
  {
   "cell_type": "code",
   "execution_count": 38,
   "id": "9dc4e9e7",
   "metadata": {},
   "outputs": [],
   "source": [
    "import math\n",
    "import numpy as np\n",
    "import seaborn as sns\n",
    "import scipy.stats as stats\n",
    "import pandas as pd\n",
    "import matplotlib.pyplot as plt\n",
    "import env\n",
    "from pydataset import data\n",
    "from scipy.stats import pearsonr, spearmanr\n",
    "import scipy\n",
    "import os\n",
    "import sklearn.preprocessing\n",
    "from sklearn.model_selection import train_test_split\n",
    "import wrangle\n",
    "from sklearn.neighbors import KNeighborsClassifier\n",
    "from sklearn.preprocessing import MinMaxScaler, StandardScaler, RobustScaler, QuantileTransformer\n",
    "import statsmodels.api as sm"
   ]
  },
  {
   "cell_type": "code",
   "execution_count": 2,
   "id": "36640680",
   "metadata": {},
   "outputs": [
    {
     "data": {
      "text/html": [
       "<div>\n",
       "<style scoped>\n",
       "    .dataframe tbody tr th:only-of-type {\n",
       "        vertical-align: middle;\n",
       "    }\n",
       "\n",
       "    .dataframe tbody tr th {\n",
       "        vertical-align: top;\n",
       "    }\n",
       "\n",
       "    .dataframe thead th {\n",
       "        text-align: right;\n",
       "    }\n",
       "</style>\n",
       "<table border=\"1\" class=\"dataframe\">\n",
       "  <thead>\n",
       "    <tr style=\"text-align: right;\">\n",
       "      <th></th>\n",
       "      <th>parcelid</th>\n",
       "      <th>bedroomcnt</th>\n",
       "      <th>bathroomcnt</th>\n",
       "      <th>calculatedfinishedsquarefeet</th>\n",
       "      <th>taxvaluedollarcnt</th>\n",
       "      <th>yearbuilt</th>\n",
       "      <th>taxamount</th>\n",
       "      <th>fips</th>\n",
       "    </tr>\n",
       "  </thead>\n",
       "  <tbody>\n",
       "    <tr>\n",
       "      <th>1349905</th>\n",
       "      <td>11911489</td>\n",
       "      <td>6.0</td>\n",
       "      <td>3.0</td>\n",
       "      <td>2449.0</td>\n",
       "      <td>432773.0</td>\n",
       "      <td>1947</td>\n",
       "      <td>5931.25</td>\n",
       "      <td>Los Angeles,CA</td>\n",
       "    </tr>\n",
       "    <tr>\n",
       "      <th>258766</th>\n",
       "      <td>17138706</td>\n",
       "      <td>3.0</td>\n",
       "      <td>2.0</td>\n",
       "      <td>1599.0</td>\n",
       "      <td>211452.0</td>\n",
       "      <td>1976</td>\n",
       "      <td>2261.32</td>\n",
       "      <td>Ventura,CA</td>\n",
       "    </tr>\n",
       "    <tr>\n",
       "      <th>1244806</th>\n",
       "      <td>12815284</td>\n",
       "      <td>4.0</td>\n",
       "      <td>3.0</td>\n",
       "      <td>1969.0</td>\n",
       "      <td>380466.0</td>\n",
       "      <td>1965</td>\n",
       "      <td>4570.03</td>\n",
       "      <td>Los Angeles,CA</td>\n",
       "    </tr>\n",
       "    <tr>\n",
       "      <th>667578</th>\n",
       "      <td>14105307</td>\n",
       "      <td>5.0</td>\n",
       "      <td>2.5</td>\n",
       "      <td>2085.0</td>\n",
       "      <td>202010.0</td>\n",
       "      <td>1955</td>\n",
       "      <td>2527.40</td>\n",
       "      <td>Orange,CA</td>\n",
       "    </tr>\n",
       "    <tr>\n",
       "      <th>882530</th>\n",
       "      <td>11010017</td>\n",
       "      <td>6.0</td>\n",
       "      <td>5.0</td>\n",
       "      <td>4922.0</td>\n",
       "      <td>1107030.0</td>\n",
       "      <td>2002</td>\n",
       "      <td>13622.19</td>\n",
       "      <td>Los Angeles,CA</td>\n",
       "    </tr>\n",
       "    <tr>\n",
       "      <th>...</th>\n",
       "      <td>...</td>\n",
       "      <td>...</td>\n",
       "      <td>...</td>\n",
       "      <td>...</td>\n",
       "      <td>...</td>\n",
       "      <td>...</td>\n",
       "      <td>...</td>\n",
       "      <td>...</td>\n",
       "    </tr>\n",
       "    <tr>\n",
       "      <th>728188</th>\n",
       "      <td>12823382</td>\n",
       "      <td>3.0</td>\n",
       "      <td>2.0</td>\n",
       "      <td>1545.0</td>\n",
       "      <td>327671.0</td>\n",
       "      <td>1951</td>\n",
       "      <td>4082.33</td>\n",
       "      <td>Los Angeles,CA</td>\n",
       "    </tr>\n",
       "    <tr>\n",
       "      <th>1285982</th>\n",
       "      <td>12199184</td>\n",
       "      <td>2.0</td>\n",
       "      <td>1.0</td>\n",
       "      <td>1656.0</td>\n",
       "      <td>32357.0</td>\n",
       "      <td>1909</td>\n",
       "      <td>940.08</td>\n",
       "      <td>Los Angeles,CA</td>\n",
       "    </tr>\n",
       "    <tr>\n",
       "      <th>1929500</th>\n",
       "      <td>11345782</td>\n",
       "      <td>4.0</td>\n",
       "      <td>3.0</td>\n",
       "      <td>2544.0</td>\n",
       "      <td>514071.0</td>\n",
       "      <td>1999</td>\n",
       "      <td>6987.84</td>\n",
       "      <td>Los Angeles,CA</td>\n",
       "    </tr>\n",
       "    <tr>\n",
       "      <th>1770542</th>\n",
       "      <td>12300227</td>\n",
       "      <td>4.0</td>\n",
       "      <td>3.0</td>\n",
       "      <td>2512.0</td>\n",
       "      <td>399925.0</td>\n",
       "      <td>1947</td>\n",
       "      <td>5213.92</td>\n",
       "      <td>Los Angeles,CA</td>\n",
       "    </tr>\n",
       "    <tr>\n",
       "      <th>878961</th>\n",
       "      <td>12849444</td>\n",
       "      <td>4.0</td>\n",
       "      <td>4.0</td>\n",
       "      <td>3164.0</td>\n",
       "      <td>672576.0</td>\n",
       "      <td>1996</td>\n",
       "      <td>7796.71</td>\n",
       "      <td>Los Angeles,CA</td>\n",
       "    </tr>\n",
       "  </tbody>\n",
       "</table>\n",
       "<p>1174236 rows × 8 columns</p>\n",
       "</div>"
      ],
      "text/plain": [
       "         parcelid  bedroomcnt  bathroomcnt  calculatedfinishedsquarefeet  \\\n",
       "1349905  11911489         6.0          3.0                        2449.0   \n",
       "258766   17138706         3.0          2.0                        1599.0   \n",
       "1244806  12815284         4.0          3.0                        1969.0   \n",
       "667578   14105307         5.0          2.5                        2085.0   \n",
       "882530   11010017         6.0          5.0                        4922.0   \n",
       "...           ...         ...          ...                           ...   \n",
       "728188   12823382         3.0          2.0                        1545.0   \n",
       "1285982  12199184         2.0          1.0                        1656.0   \n",
       "1929500  11345782         4.0          3.0                        2544.0   \n",
       "1770542  12300227         4.0          3.0                        2512.0   \n",
       "878961   12849444         4.0          4.0                        3164.0   \n",
       "\n",
       "         taxvaluedollarcnt  yearbuilt  taxamount            fips  \n",
       "1349905           432773.0       1947    5931.25  Los Angeles,CA  \n",
       "258766            211452.0       1976    2261.32      Ventura,CA  \n",
       "1244806           380466.0       1965    4570.03  Los Angeles,CA  \n",
       "667578            202010.0       1955    2527.40       Orange,CA  \n",
       "882530           1107030.0       2002   13622.19  Los Angeles,CA  \n",
       "...                    ...        ...        ...             ...  \n",
       "728188            327671.0       1951    4082.33  Los Angeles,CA  \n",
       "1285982            32357.0       1909     940.08  Los Angeles,CA  \n",
       "1929500           514071.0       1999    6987.84  Los Angeles,CA  \n",
       "1770542           399925.0       1947    5213.92  Los Angeles,CA  \n",
       "878961            672576.0       1996    7796.71  Los Angeles,CA  \n",
       "\n",
       "[1174236 rows x 8 columns]"
      ]
     },
     "execution_count": 2,
     "metadata": {},
     "output_type": "execute_result"
    }
   ],
   "source": [
    "train = wrangle.train\n",
    "train"
   ]
  },
  {
   "cell_type": "code",
   "execution_count": 3,
   "id": "1ccefc99",
   "metadata": {},
   "outputs": [
    {
     "data": {
      "text/plain": [
       "1349905    2449\n",
       "258766     1599\n",
       "1244806    1969\n",
       "667578     2085\n",
       "882530     4922\n",
       "           ... \n",
       "728188     1545\n",
       "1285982    1656\n",
       "1929500    2544\n",
       "1770542    2512\n",
       "878961     3164\n",
       "Name: sqft, Length: 1174236, dtype: int64"
      ]
     },
     "execution_count": 3,
     "metadata": {},
     "output_type": "execute_result"
    }
   ],
   "source": [
    "train.columns = ['parcelid', 'bedct', 'bathct', 'sqft',\n",
    "       'taxvaluedollarcnt', 'yearbuilt', 'taxamount', 'county']\n",
    "train.taxvaluedollarcnt.astype('int')\n",
    "train.sqft.astype('int')"
   ]
  },
  {
   "cell_type": "code",
   "execution_count": 4,
   "id": "09e5760c",
   "metadata": {},
   "outputs": [
    {
     "data": {
      "text/html": [
       "<div>\n",
       "<style scoped>\n",
       "    .dataframe tbody tr th:only-of-type {\n",
       "        vertical-align: middle;\n",
       "    }\n",
       "\n",
       "    .dataframe tbody tr th {\n",
       "        vertical-align: top;\n",
       "    }\n",
       "\n",
       "    .dataframe thead th {\n",
       "        text-align: right;\n",
       "    }\n",
       "</style>\n",
       "<table border=\"1\" class=\"dataframe\">\n",
       "  <thead>\n",
       "    <tr style=\"text-align: right;\">\n",
       "      <th></th>\n",
       "      <th>parcelid</th>\n",
       "      <th>bedct</th>\n",
       "      <th>bathct</th>\n",
       "      <th>sqft</th>\n",
       "      <th>taxvaluedollarcnt</th>\n",
       "      <th>yearbuilt</th>\n",
       "      <th>taxamount</th>\n",
       "      <th>county</th>\n",
       "    </tr>\n",
       "  </thead>\n",
       "  <tbody>\n",
       "    <tr>\n",
       "      <th>1349905</th>\n",
       "      <td>11911489</td>\n",
       "      <td>6.0</td>\n",
       "      <td>3.0</td>\n",
       "      <td>2449.0</td>\n",
       "      <td>432773.0</td>\n",
       "      <td>1947</td>\n",
       "      <td>5931.25</td>\n",
       "      <td>Los Angeles,CA</td>\n",
       "    </tr>\n",
       "    <tr>\n",
       "      <th>258766</th>\n",
       "      <td>17138706</td>\n",
       "      <td>3.0</td>\n",
       "      <td>2.0</td>\n",
       "      <td>1599.0</td>\n",
       "      <td>211452.0</td>\n",
       "      <td>1976</td>\n",
       "      <td>2261.32</td>\n",
       "      <td>Ventura,CA</td>\n",
       "    </tr>\n",
       "    <tr>\n",
       "      <th>1244806</th>\n",
       "      <td>12815284</td>\n",
       "      <td>4.0</td>\n",
       "      <td>3.0</td>\n",
       "      <td>1969.0</td>\n",
       "      <td>380466.0</td>\n",
       "      <td>1965</td>\n",
       "      <td>4570.03</td>\n",
       "      <td>Los Angeles,CA</td>\n",
       "    </tr>\n",
       "    <tr>\n",
       "      <th>667578</th>\n",
       "      <td>14105307</td>\n",
       "      <td>5.0</td>\n",
       "      <td>2.5</td>\n",
       "      <td>2085.0</td>\n",
       "      <td>202010.0</td>\n",
       "      <td>1955</td>\n",
       "      <td>2527.40</td>\n",
       "      <td>Orange,CA</td>\n",
       "    </tr>\n",
       "    <tr>\n",
       "      <th>882530</th>\n",
       "      <td>11010017</td>\n",
       "      <td>6.0</td>\n",
       "      <td>5.0</td>\n",
       "      <td>4922.0</td>\n",
       "      <td>1107030.0</td>\n",
       "      <td>2002</td>\n",
       "      <td>13622.19</td>\n",
       "      <td>Los Angeles,CA</td>\n",
       "    </tr>\n",
       "    <tr>\n",
       "      <th>...</th>\n",
       "      <td>...</td>\n",
       "      <td>...</td>\n",
       "      <td>...</td>\n",
       "      <td>...</td>\n",
       "      <td>...</td>\n",
       "      <td>...</td>\n",
       "      <td>...</td>\n",
       "      <td>...</td>\n",
       "    </tr>\n",
       "    <tr>\n",
       "      <th>728188</th>\n",
       "      <td>12823382</td>\n",
       "      <td>3.0</td>\n",
       "      <td>2.0</td>\n",
       "      <td>1545.0</td>\n",
       "      <td>327671.0</td>\n",
       "      <td>1951</td>\n",
       "      <td>4082.33</td>\n",
       "      <td>Los Angeles,CA</td>\n",
       "    </tr>\n",
       "    <tr>\n",
       "      <th>1285982</th>\n",
       "      <td>12199184</td>\n",
       "      <td>2.0</td>\n",
       "      <td>1.0</td>\n",
       "      <td>1656.0</td>\n",
       "      <td>32357.0</td>\n",
       "      <td>1909</td>\n",
       "      <td>940.08</td>\n",
       "      <td>Los Angeles,CA</td>\n",
       "    </tr>\n",
       "    <tr>\n",
       "      <th>1929500</th>\n",
       "      <td>11345782</td>\n",
       "      <td>4.0</td>\n",
       "      <td>3.0</td>\n",
       "      <td>2544.0</td>\n",
       "      <td>514071.0</td>\n",
       "      <td>1999</td>\n",
       "      <td>6987.84</td>\n",
       "      <td>Los Angeles,CA</td>\n",
       "    </tr>\n",
       "    <tr>\n",
       "      <th>1770542</th>\n",
       "      <td>12300227</td>\n",
       "      <td>4.0</td>\n",
       "      <td>3.0</td>\n",
       "      <td>2512.0</td>\n",
       "      <td>399925.0</td>\n",
       "      <td>1947</td>\n",
       "      <td>5213.92</td>\n",
       "      <td>Los Angeles,CA</td>\n",
       "    </tr>\n",
       "    <tr>\n",
       "      <th>878961</th>\n",
       "      <td>12849444</td>\n",
       "      <td>4.0</td>\n",
       "      <td>4.0</td>\n",
       "      <td>3164.0</td>\n",
       "      <td>672576.0</td>\n",
       "      <td>1996</td>\n",
       "      <td>7796.71</td>\n",
       "      <td>Los Angeles,CA</td>\n",
       "    </tr>\n",
       "  </tbody>\n",
       "</table>\n",
       "<p>1174236 rows × 8 columns</p>\n",
       "</div>"
      ],
      "text/plain": [
       "         parcelid  bedct  bathct    sqft  taxvaluedollarcnt  yearbuilt  \\\n",
       "1349905  11911489    6.0     3.0  2449.0           432773.0       1947   \n",
       "258766   17138706    3.0     2.0  1599.0           211452.0       1976   \n",
       "1244806  12815284    4.0     3.0  1969.0           380466.0       1965   \n",
       "667578   14105307    5.0     2.5  2085.0           202010.0       1955   \n",
       "882530   11010017    6.0     5.0  4922.0          1107030.0       2002   \n",
       "...           ...    ...     ...     ...                ...        ...   \n",
       "728188   12823382    3.0     2.0  1545.0           327671.0       1951   \n",
       "1285982  12199184    2.0     1.0  1656.0            32357.0       1909   \n",
       "1929500  11345782    4.0     3.0  2544.0           514071.0       1999   \n",
       "1770542  12300227    4.0     3.0  2512.0           399925.0       1947   \n",
       "878961   12849444    4.0     4.0  3164.0           672576.0       1996   \n",
       "\n",
       "         taxamount          county  \n",
       "1349905    5931.25  Los Angeles,CA  \n",
       "258766     2261.32      Ventura,CA  \n",
       "1244806    4570.03  Los Angeles,CA  \n",
       "667578     2527.40       Orange,CA  \n",
       "882530    13622.19  Los Angeles,CA  \n",
       "...            ...             ...  \n",
       "728188     4082.33  Los Angeles,CA  \n",
       "1285982     940.08  Los Angeles,CA  \n",
       "1929500    6987.84  Los Angeles,CA  \n",
       "1770542    5213.92  Los Angeles,CA  \n",
       "878961     7796.71  Los Angeles,CA  \n",
       "\n",
       "[1174236 rows x 8 columns]"
      ]
     },
     "execution_count": 4,
     "metadata": {},
     "output_type": "execute_result"
    }
   ],
   "source": [
    "train"
   ]
  },
  {
   "cell_type": "markdown",
   "id": "ad01d0ec",
   "metadata": {},
   "source": [
    "## Using scaled data.\n",
    "### 2) Fit a linear regression model (ordinary least squares) and compute yhat, predictions of taxvaluedollarcnt using only calfulatedfinishedsqft.\n",
    "\n",
    "Here is code to get you started:\n"
   ]
  },
  {
   "cell_type": "code",
   "execution_count": 5,
   "id": "1f284293",
   "metadata": {},
   "outputs": [
    {
     "data": {
      "text/html": [
       "<div>\n",
       "<style scoped>\n",
       "    .dataframe tbody tr th:only-of-type {\n",
       "        vertical-align: middle;\n",
       "    }\n",
       "\n",
       "    .dataframe tbody tr th {\n",
       "        vertical-align: top;\n",
       "    }\n",
       "\n",
       "    .dataframe thead th {\n",
       "        text-align: right;\n",
       "    }\n",
       "</style>\n",
       "<table border=\"1\" class=\"dataframe\">\n",
       "  <thead>\n",
       "    <tr style=\"text-align: right;\">\n",
       "      <th></th>\n",
       "      <th>parcelid</th>\n",
       "      <th>bedct</th>\n",
       "      <th>bathct</th>\n",
       "      <th>sqft</th>\n",
       "      <th>taxvaluedollarcnt</th>\n",
       "      <th>yearbuilt</th>\n",
       "      <th>taxamount</th>\n",
       "      <th>county</th>\n",
       "      <th>yhat</th>\n",
       "    </tr>\n",
       "  </thead>\n",
       "  <tbody>\n",
       "    <tr>\n",
       "      <th>1349905</th>\n",
       "      <td>11911489</td>\n",
       "      <td>6.0</td>\n",
       "      <td>3.0</td>\n",
       "      <td>2449.0</td>\n",
       "      <td>432773.0</td>\n",
       "      <td>1947</td>\n",
       "      <td>5931.25</td>\n",
       "      <td>Los Angeles,CA</td>\n",
       "      <td>5.803575e+05</td>\n",
       "    </tr>\n",
       "    <tr>\n",
       "      <th>258766</th>\n",
       "      <td>17138706</td>\n",
       "      <td>3.0</td>\n",
       "      <td>2.0</td>\n",
       "      <td>1599.0</td>\n",
       "      <td>211452.0</td>\n",
       "      <td>1976</td>\n",
       "      <td>2261.32</td>\n",
       "      <td>Ventura,CA</td>\n",
       "      <td>3.571102e+05</td>\n",
       "    </tr>\n",
       "    <tr>\n",
       "      <th>1244806</th>\n",
       "      <td>12815284</td>\n",
       "      <td>4.0</td>\n",
       "      <td>3.0</td>\n",
       "      <td>1969.0</td>\n",
       "      <td>380466.0</td>\n",
       "      <td>1965</td>\n",
       "      <td>4570.03</td>\n",
       "      <td>Los Angeles,CA</td>\n",
       "      <td>4.542884e+05</td>\n",
       "    </tr>\n",
       "    <tr>\n",
       "      <th>667578</th>\n",
       "      <td>14105307</td>\n",
       "      <td>5.0</td>\n",
       "      <td>2.5</td>\n",
       "      <td>2085.0</td>\n",
       "      <td>202010.0</td>\n",
       "      <td>1955</td>\n",
       "      <td>2527.40</td>\n",
       "      <td>Orange,CA</td>\n",
       "      <td>4.847551e+05</td>\n",
       "    </tr>\n",
       "    <tr>\n",
       "      <th>882530</th>\n",
       "      <td>11010017</td>\n",
       "      <td>6.0</td>\n",
       "      <td>5.0</td>\n",
       "      <td>4922.0</td>\n",
       "      <td>1107030.0</td>\n",
       "      <td>2002</td>\n",
       "      <td>13622.19</td>\n",
       "      <td>Los Angeles,CA</td>\n",
       "      <td>1.229876e+06</td>\n",
       "    </tr>\n",
       "    <tr>\n",
       "      <th>...</th>\n",
       "      <td>...</td>\n",
       "      <td>...</td>\n",
       "      <td>...</td>\n",
       "      <td>...</td>\n",
       "      <td>...</td>\n",
       "      <td>...</td>\n",
       "      <td>...</td>\n",
       "      <td>...</td>\n",
       "      <td>...</td>\n",
       "    </tr>\n",
       "    <tr>\n",
       "      <th>728188</th>\n",
       "      <td>12823382</td>\n",
       "      <td>3.0</td>\n",
       "      <td>2.0</td>\n",
       "      <td>1545.0</td>\n",
       "      <td>327671.0</td>\n",
       "      <td>1951</td>\n",
       "      <td>4082.33</td>\n",
       "      <td>Los Angeles,CA</td>\n",
       "      <td>3.429274e+05</td>\n",
       "    </tr>\n",
       "    <tr>\n",
       "      <th>1285982</th>\n",
       "      <td>12199184</td>\n",
       "      <td>2.0</td>\n",
       "      <td>1.0</td>\n",
       "      <td>1656.0</td>\n",
       "      <td>32357.0</td>\n",
       "      <td>1909</td>\n",
       "      <td>940.08</td>\n",
       "      <td>Los Angeles,CA</td>\n",
       "      <td>3.720809e+05</td>\n",
       "    </tr>\n",
       "    <tr>\n",
       "      <th>1929500</th>\n",
       "      <td>11345782</td>\n",
       "      <td>4.0</td>\n",
       "      <td>3.0</td>\n",
       "      <td>2544.0</td>\n",
       "      <td>514071.0</td>\n",
       "      <td>1999</td>\n",
       "      <td>6987.84</td>\n",
       "      <td>Los Angeles,CA</td>\n",
       "      <td>6.053087e+05</td>\n",
       "    </tr>\n",
       "    <tr>\n",
       "      <th>1770542</th>\n",
       "      <td>12300227</td>\n",
       "      <td>4.0</td>\n",
       "      <td>3.0</td>\n",
       "      <td>2512.0</td>\n",
       "      <td>399925.0</td>\n",
       "      <td>1947</td>\n",
       "      <td>5213.92</td>\n",
       "      <td>Los Angeles,CA</td>\n",
       "      <td>5.969041e+05</td>\n",
       "    </tr>\n",
       "    <tr>\n",
       "      <th>878961</th>\n",
       "      <td>12849444</td>\n",
       "      <td>4.0</td>\n",
       "      <td>4.0</td>\n",
       "      <td>3164.0</td>\n",
       "      <td>672576.0</td>\n",
       "      <td>1996</td>\n",
       "      <td>7796.71</td>\n",
       "      <td>Los Angeles,CA</td>\n",
       "      <td>7.681480e+05</td>\n",
       "    </tr>\n",
       "  </tbody>\n",
       "</table>\n",
       "<p>1174236 rows × 9 columns</p>\n",
       "</div>"
      ],
      "text/plain": [
       "         parcelid  bedct  bathct    sqft  taxvaluedollarcnt  yearbuilt  \\\n",
       "1349905  11911489    6.0     3.0  2449.0           432773.0       1947   \n",
       "258766   17138706    3.0     2.0  1599.0           211452.0       1976   \n",
       "1244806  12815284    4.0     3.0  1969.0           380466.0       1965   \n",
       "667578   14105307    5.0     2.5  2085.0           202010.0       1955   \n",
       "882530   11010017    6.0     5.0  4922.0          1107030.0       2002   \n",
       "...           ...    ...     ...     ...                ...        ...   \n",
       "728188   12823382    3.0     2.0  1545.0           327671.0       1951   \n",
       "1285982  12199184    2.0     1.0  1656.0            32357.0       1909   \n",
       "1929500  11345782    4.0     3.0  2544.0           514071.0       1999   \n",
       "1770542  12300227    4.0     3.0  2512.0           399925.0       1947   \n",
       "878961   12849444    4.0     4.0  3164.0           672576.0       1996   \n",
       "\n",
       "         taxamount          county          yhat  \n",
       "1349905    5931.25  Los Angeles,CA  5.803575e+05  \n",
       "258766     2261.32      Ventura,CA  3.571102e+05  \n",
       "1244806    4570.03  Los Angeles,CA  4.542884e+05  \n",
       "667578     2527.40       Orange,CA  4.847551e+05  \n",
       "882530    13622.19  Los Angeles,CA  1.229876e+06  \n",
       "...            ...             ...           ...  \n",
       "728188     4082.33  Los Angeles,CA  3.429274e+05  \n",
       "1285982     940.08  Los Angeles,CA  3.720809e+05  \n",
       "1929500    6987.84  Los Angeles,CA  6.053087e+05  \n",
       "1770542    5213.92  Los Angeles,CA  5.969041e+05  \n",
       "878961     7796.71  Los Angeles,CA  7.681480e+05  \n",
       "\n",
       "[1174236 rows x 9 columns]"
      ]
     },
     "execution_count": 5,
     "metadata": {},
     "output_type": "execute_result"
    }
   ],
   "source": [
    "# pd.DataFrame makes it into 2d vs 1d so the information can be processed\n",
    "from sklearn.linear_model import LinearRegression\n",
    "y = pd.DataFrame(train.taxvaluedollarcnt)\n",
    "X = pd.DataFrame(train.sqft)\n",
    "# assuming X and y are already defined\n",
    "model = LinearRegression().fit(X, y)\n",
    "train['yhat'] = model.predict(X)\n",
    "train"
   ]
  },
  {
   "cell_type": "code",
   "execution_count": 6,
   "id": "f5a7d910",
   "metadata": {},
   "outputs": [
    {
     "data": {
      "text/html": [
       "<div>\n",
       "<style scoped>\n",
       "    .dataframe tbody tr th:only-of-type {\n",
       "        vertical-align: middle;\n",
       "    }\n",
       "\n",
       "    .dataframe tbody tr th {\n",
       "        vertical-align: top;\n",
       "    }\n",
       "\n",
       "    .dataframe thead th {\n",
       "        text-align: right;\n",
       "    }\n",
       "</style>\n",
       "<table border=\"1\" class=\"dataframe\">\n",
       "  <thead>\n",
       "    <tr style=\"text-align: right;\">\n",
       "      <th></th>\n",
       "      <th>sqft</th>\n",
       "      <th>taxvaluedollarcnt</th>\n",
       "      <th>yhat</th>\n",
       "    </tr>\n",
       "  </thead>\n",
       "  <tbody>\n",
       "    <tr>\n",
       "      <th>1349905</th>\n",
       "      <td>2449.0</td>\n",
       "      <td>432773.0</td>\n",
       "      <td>5.803575e+05</td>\n",
       "    </tr>\n",
       "    <tr>\n",
       "      <th>258766</th>\n",
       "      <td>1599.0</td>\n",
       "      <td>211452.0</td>\n",
       "      <td>3.571102e+05</td>\n",
       "    </tr>\n",
       "    <tr>\n",
       "      <th>1244806</th>\n",
       "      <td>1969.0</td>\n",
       "      <td>380466.0</td>\n",
       "      <td>4.542884e+05</td>\n",
       "    </tr>\n",
       "    <tr>\n",
       "      <th>667578</th>\n",
       "      <td>2085.0</td>\n",
       "      <td>202010.0</td>\n",
       "      <td>4.847551e+05</td>\n",
       "    </tr>\n",
       "    <tr>\n",
       "      <th>882530</th>\n",
       "      <td>4922.0</td>\n",
       "      <td>1107030.0</td>\n",
       "      <td>1.229876e+06</td>\n",
       "    </tr>\n",
       "  </tbody>\n",
       "</table>\n",
       "</div>"
      ],
      "text/plain": [
       "           sqft  taxvaluedollarcnt          yhat\n",
       "1349905  2449.0           432773.0  5.803575e+05\n",
       "258766   1599.0           211452.0  3.571102e+05\n",
       "1244806  1969.0           380466.0  4.542884e+05\n",
       "667578   2085.0           202010.0  4.847551e+05\n",
       "882530   4922.0          1107030.0  1.229876e+06"
      ]
     },
     "execution_count": 6,
     "metadata": {},
     "output_type": "execute_result"
    }
   ],
   "source": [
    "df = pd.DataFrame(train[['sqft','taxvaluedollarcnt','yhat']])\n",
    "df.head()"
   ]
  },
  {
   "cell_type": "markdown",
   "id": "a37fd41f",
   "metadata": {},
   "source": [
    "### 3) Plot the residuals for the linear regression model that you made.\n"
   ]
  },
  {
   "cell_type": "code",
   "execution_count": 7,
   "id": "5ab36dea",
   "metadata": {},
   "outputs": [
    {
     "data": {
      "text/plain": [
       "taxvaluedollarcnt    409556.604079\n",
       "dtype: float64"
      ]
     },
     "execution_count": 7,
     "metadata": {},
     "output_type": "execute_result"
    }
   ],
   "source": [
    "#creating a baseline from the mean of the target variable\n",
    "baseline = y.mean()\n",
    "df['baseline'] = y.taxvaluedollarcnt.mean()\n",
    "# turning baseline to int from float\n",
    "df.baseline = df.baseline.astype(int)\n",
    "# residual = actual - predicted\n",
    "df['residual'] = df.taxvaluedollarcnt - df.yhat\n",
    "df['baseline_residual'] = df.taxvaluedollarcnt - df.baseline"
   ]
  },
  {
   "cell_type": "code",
   "execution_count": 26,
   "id": "529d452a",
   "metadata": {},
   "outputs": [
    {
     "data": {
      "image/png": "[encoded data removed]",
      "text/plain": [
       "<Figure size 792x360 with 2 Axes>"
      ]
     },
     "metadata": {},
     "output_type": "display_data"
    }
   ],
   "source": [
    "# residual plots (x vs residual)\n",
    "\n",
    "plt.figure(figsize = (11,5))\n",
    "\n",
    "plt.subplot(121)\n",
    "plt.scatter(df.sqft, df.baseline_residual)\n",
    "plt.axhline(y = 0, ls = ':', color='red')\n",
    "plt.xlabel('Square Feet')\n",
    "plt.ylabel('Residual')\n",
    "plt.title('Baseline Residuals')\n",
    "\n",
    "plt.subplot(122)\n",
    "plt.scatter(df.sqft, df.residual)\n",
    "plt.axhline(y = 0, ls = ':', color ='red')\n",
    "plt.xlabel('Square Feet')\n",
    "plt.ylabel('Residual')\n",
    "plt.title('OLS model residuals');"
   ]
  },
  {
   "cell_type": "code",
   "execution_count": 11,
   "id": "b0c4c465",
   "metadata": {},
   "outputs": [
    {
     "data": {
      "image/png": "[encoded data removed]",
      "text/plain": [
       "<Figure size 1080x432 with 1 Axes>"
      ]
     },
     "metadata": {},
     "output_type": "display_data"
    }
   ],
   "source": [
    "y = pd.DataFrame(df.taxvaluedollarcnt)\n",
    "X = pd.DataFrame(df.sqft)\n",
    "# look at scatter of x vs y\n",
    "plt.scatter(X, y)\n",
    "plt.xlabel('x = sq ft')\n",
    "plt.ylabel('y = tax value dollar count');"
   ]
  },
  {
   "cell_type": "code",
   "execution_count": 30,
   "id": "57a8dab0",
   "metadata": {},
   "outputs": [
    {
     "data": {
      "image/png": "[encoded data removed]",
      "text/plain": [
       "<Figure size 1080x432 with 1 Axes>"
      ]
     },
     "metadata": {},
     "output_type": "display_data"
    }
   ],
   "source": [
    "# Residual plot (y vs residual)\n",
    "actual = df.taxvaluedollarcnt\n",
    "predicted = df.yhat\n",
    "residuals = actual - predicted\n",
    "plt.hlines(0, actual.min(), actual.max(), ls=':')\n",
    "plt.scatter(actual, residuals)\n",
    "plt.ylabel('residual ($y - \\hat{y}$)')\n",
    "plt.xlabel('actual value ($y$)')\n",
    "plt.title('Actual vs Residual')\n",
    "plt.show()\n"
   ]
  },
  {
   "cell_type": "markdown",
   "id": "6e902dc9",
   "metadata": {},
   "source": [
    "### 4) Calculate the sum of squared errors, explained sum of squares, total sum of squares, mean squared error, and root mean squared error for your model.\n"
   ]
  },
  {
   "cell_type": "code",
   "execution_count": 12,
   "id": "b3187b5b",
   "metadata": {},
   "outputs": [
    {
     "data": {
      "text/plain": [
       "-3.6094337701797485e-05"
      ]
     },
     "execution_count": 12,
     "metadata": {},
     "output_type": "execute_result"
    }
   ],
   "source": [
    "# sum of residual is zero\n",
    "df.residual.sum()"
   ]
  },
  {
   "cell_type": "code",
   "execution_count": 13,
   "id": "ac6eeed1",
   "metadata": {},
   "outputs": [
    {
     "data": {
      "text/plain": [
       "709331.0"
      ]
     },
     "execution_count": 13,
     "metadata": {},
     "output_type": "execute_result"
    }
   ],
   "source": [
    "# sum of baseline residual is zero too\n",
    "df.baseline_residual.sum()"
   ]
  },
  {
   "cell_type": "code",
   "execution_count": 14,
   "id": "f15eca3e",
   "metadata": {},
   "outputs": [
    {
     "data": {
      "text/html": [
       "<div>\n",
       "<style scoped>\n",
       "    .dataframe tbody tr th:only-of-type {\n",
       "        vertical-align: middle;\n",
       "    }\n",
       "\n",
       "    .dataframe tbody tr th {\n",
       "        vertical-align: top;\n",
       "    }\n",
       "\n",
       "    .dataframe thead th {\n",
       "        text-align: right;\n",
       "    }\n",
       "</style>\n",
       "<table border=\"1\" class=\"dataframe\">\n",
       "  <thead>\n",
       "    <tr style=\"text-align: right;\">\n",
       "      <th></th>\n",
       "      <th>sqft</th>\n",
       "      <th>taxvaluedollarcnt</th>\n",
       "      <th>yhat</th>\n",
       "      <th>baseline</th>\n",
       "      <th>residual</th>\n",
       "      <th>baseline_residual</th>\n",
       "      <th>residual^2</th>\n",
       "      <th>baseline_residual^2</th>\n",
       "    </tr>\n",
       "  </thead>\n",
       "  <tbody>\n",
       "    <tr>\n",
       "      <th>1349905</th>\n",
       "      <td>2449.0</td>\n",
       "      <td>432773.0</td>\n",
       "      <td>5.803575e+05</td>\n",
       "      <td>409556</td>\n",
       "      <td>-147584.542347</td>\n",
       "      <td>23217.0</td>\n",
       "      <td>2.178120e+10</td>\n",
       "      <td>5.390291e+08</td>\n",
       "    </tr>\n",
       "    <tr>\n",
       "      <th>258766</th>\n",
       "      <td>1599.0</td>\n",
       "      <td>211452.0</td>\n",
       "      <td>3.571102e+05</td>\n",
       "      <td>409556</td>\n",
       "      <td>-145658.156325</td>\n",
       "      <td>-198104.0</td>\n",
       "      <td>2.121630e+10</td>\n",
       "      <td>3.924519e+10</td>\n",
       "    </tr>\n",
       "    <tr>\n",
       "      <th>1244806</th>\n",
       "      <td>1969.0</td>\n",
       "      <td>380466.0</td>\n",
       "      <td>4.542884e+05</td>\n",
       "      <td>409556</td>\n",
       "      <td>-73822.430240</td>\n",
       "      <td>-29090.0</td>\n",
       "      <td>5.449751e+09</td>\n",
       "      <td>8.462281e+08</td>\n",
       "    </tr>\n",
       "    <tr>\n",
       "      <th>667578</th>\n",
       "      <td>2085.0</td>\n",
       "      <td>202010.0</td>\n",
       "      <td>4.847551e+05</td>\n",
       "      <td>409556</td>\n",
       "      <td>-282745.132333</td>\n",
       "      <td>-207546.0</td>\n",
       "      <td>7.994481e+10</td>\n",
       "      <td>4.307534e+10</td>\n",
       "    </tr>\n",
       "    <tr>\n",
       "      <th>882530</th>\n",
       "      <td>4922.0</td>\n",
       "      <td>1107030.0</td>\n",
       "      <td>1.229876e+06</td>\n",
       "      <td>409556</td>\n",
       "      <td>-122846.113680</td>\n",
       "      <td>697474.0</td>\n",
       "      <td>1.509117e+10</td>\n",
       "      <td>4.864700e+11</td>\n",
       "    </tr>\n",
       "  </tbody>\n",
       "</table>\n",
       "</div>"
      ],
      "text/plain": [
       "           sqft  taxvaluedollarcnt          yhat  baseline       residual  \\\n",
       "1349905  2449.0           432773.0  5.803575e+05    409556 -147584.542347   \n",
       "258766   1599.0           211452.0  3.571102e+05    409556 -145658.156325   \n",
       "1244806  1969.0           380466.0  4.542884e+05    409556  -73822.430240   \n",
       "667578   2085.0           202010.0  4.847551e+05    409556 -282745.132333   \n",
       "882530   4922.0          1107030.0  1.229876e+06    409556 -122846.113680   \n",
       "\n",
       "         baseline_residual    residual^2  baseline_residual^2  \n",
       "1349905            23217.0  2.178120e+10         5.390291e+08  \n",
       "258766           -198104.0  2.121630e+10         3.924519e+10  \n",
       "1244806           -29090.0  5.449751e+09         8.462281e+08  \n",
       "667578           -207546.0  7.994481e+10         4.307534e+10  \n",
       "882530            697474.0  1.509117e+10         4.864700e+11  "
      ]
     },
     "execution_count": 14,
     "metadata": {},
     "output_type": "execute_result"
    }
   ],
   "source": [
    "df['residual^2'] = df.residual**2\n",
    "df['baseline_residual^2'] = df.baseline_residual**2\n",
    "\n",
    "df.head()"
   ]
  },
  {
   "cell_type": "markdown",
   "id": "2d9ae6ff",
   "metadata": {},
   "source": [
    "### calculating sse "
   ]
  },
  {
   "cell_type": "code",
   "execution_count": 15,
   "id": "078a421b",
   "metadata": {},
   "outputs": [
    {
     "name": "stdout",
     "output_type": "stream",
     "text": [
      "SSE = 93425651740240464.0\n",
      "SSE Baseline = 141564208612476192.0\n"
     ]
    }
   ],
   "source": [
    "SSE = df['residual^2'].sum()\n",
    "SSE_baseline = df['baseline_residual^2'].sum()\n",
    "\n",
    "print('SSE =', \"{:.1f}\".format(SSE))\n",
    "print(\"SSE Baseline =\", \"{:.1f}\".format(SSE_baseline))"
   ]
  },
  {
   "cell_type": "markdown",
   "id": "1ff455a9",
   "metadata": {},
   "source": [
    "***"
   ]
  },
  {
   "cell_type": "markdown",
   "id": "46578b89",
   "metadata": {},
   "source": [
    "### 5) Calculate the sum of squared errors, mean squared error, and root mean squared error for the baseline model (i.e. a model that always predicts the average taxvaluedollarcnt amount)."
   ]
  },
  {
   "cell_type": "code",
   "execution_count": 16,
   "id": "edefd0a1",
   "metadata": {},
   "outputs": [
    {
     "data": {
      "text/plain": [
       "1174236"
      ]
     },
     "execution_count": 16,
     "metadata": {},
     "output_type": "execute_result"
    }
   ],
   "source": [
    "len(df)\n",
    "df.shape[0]"
   ]
  },
  {
   "cell_type": "markdown",
   "id": "3ceb069b",
   "metadata": {},
   "source": [
    "### calculating mse"
   ]
  },
  {
   "cell_type": "code",
   "execution_count": 17,
   "id": "c71e0f09",
   "metadata": {},
   "outputs": [
    {
     "name": "stdout",
     "output_type": "stream",
     "text": [
      "MSE =  79562925800.5\n",
      "MSE baseline =  120558566261.4\n"
     ]
    }
   ],
   "source": [
    "MSE = SSE/len(df)\n",
    "MSE_baseline = SSE_baseline/len(df)\n",
    "\n",
    "print(\"MSE = \", \"{:.1f}\".format(MSE))\n",
    "print(\"MSE baseline = \", \"{:.1f}\".format(MSE_baseline))"
   ]
  },
  {
   "cell_type": "code",
   "execution_count": 18,
   "id": "52883d77",
   "metadata": {},
   "outputs": [],
   "source": [
    "### calculating RMSE"
   ]
  },
  {
   "cell_type": "code",
   "execution_count": 19,
   "id": "c4061828",
   "metadata": {},
   "outputs": [
    {
     "name": "stdout",
     "output_type": "stream",
     "text": [
      "RMSE =  282069.0\n",
      "RMSE baseline =  347215.4\n"
     ]
    }
   ],
   "source": [
    "from math import sqrt\n",
    "RMSE = sqrt(MSE)\n",
    "RMSE_baseline =  sqrt(MSE_baseline)\n",
    "\n",
    "\n",
    "print(\"RMSE = \", \"{:.1f}\".format(RMSE))\n",
    "print(\"RMSE baseline = \", \"{:.1f}\".format(RMSE_baseline))"
   ]
  },
  {
   "cell_type": "markdown",
   "id": "26d4f43d",
   "metadata": {},
   "source": [
    "### 6) Write python code that compares the sum of squared errors for your model against the sum of squared errors for the baseline model and outputs whether or not your model performs better than the baseline model."
   ]
  },
  {
   "cell_type": "code",
   "execution_count": 20,
   "id": "e180ace8",
   "metadata": {},
   "outputs": [
    {
     "name": "stdout",
     "output_type": "stream",
     "text": [
      "OLS regression model performs better than the baseline\n"
     ]
    }
   ],
   "source": [
    "if SSE < SSE_baseline:\n",
    "    print('OLS regression model performs better than the baseline')\n",
    "else:\n",
    "    print('OLS regression model performs worse than the baseline')"
   ]
  },
  {
   "cell_type": "markdown",
   "id": "fd48bc75",
   "metadata": {},
   "source": [
    "### 7) What is the amount of variance explained in your model?"
   ]
  },
  {
   "cell_type": "code",
   "execution_count": 21,
   "id": "43ee8e77",
   "metadata": {},
   "outputs": [
    {
     "data": {
      "text/plain": [
       "0.340047511611706"
      ]
     },
     "execution_count": 21,
     "metadata": {},
     "output_type": "execute_result"
    }
   ],
   "source": [
    "# calculate R2 the easy way:\n",
    "from sklearn.metrics import r2_score\n",
    "r2_score(df.taxvaluedollarcnt, df.yhat)"
   ]
  },
  {
   "cell_type": "markdown",
   "id": "3f643933",
   "metadata": {},
   "source": [
    "### 8) Is your model better than the baseline model?"
   ]
  },
  {
   "cell_type": "code",
   "execution_count": 22,
   "id": "c1584306",
   "metadata": {},
   "outputs": [],
   "source": [
    "import statsmodels.api as sm"
   ]
  },
  {
   "cell_type": "code",
   "execution_count": 23,
   "id": "9fe3c3ad",
   "metadata": {},
   "outputs": [
    {
     "name": "stdout",
     "output_type": "stream",
     "text": [
      "                            OLS Regression Results                            \n",
      "==============================================================================\n",
      "Dep. Variable:      taxvaluedollarcnt   R-squared:                       0.340\n",
      "Model:                            OLS   Adj. R-squared:                  0.340\n",
      "Method:                 Least Squares   F-statistic:                 6.050e+05\n",
      "Date:                Sun, 05 Jun 2022   Prob (F-statistic):               0.00\n",
      "Time:                        14:02:41   Log-Likelihood:            -1.6403e+07\n",
      "No. Observations:             1174236   AIC:                         3.281e+07\n",
      "Df Residuals:                 1174234   BIC:                         3.281e+07\n",
      "Df Model:                           1                                         \n",
      "Covariance Type:            nonrobust                                         \n",
      "==============================================================================\n",
      "                 coef    std err          t      P>|t|      [0.025      0.975]\n",
      "------------------------------------------------------------------------------\n",
      "const      -6.286e+04    660.772    -95.127      0.000   -6.42e+04   -6.16e+04\n",
      "sqft         262.6440      0.338    777.841      0.000     261.982     263.306\n",
      "==============================================================================\n",
      "Omnibus:                   504428.112   Durbin-Watson:                   2.000\n",
      "Prob(Omnibus):                  0.000   Jarque-Bera (JB):          3901115.351\n",
      "Skew:                           1.894   Prob(JB):                         0.00\n",
      "Kurtosis:                      11.086   Cond. No.                     4.97e+03\n",
      "==============================================================================\n",
      "\n",
      "Notes:\n",
      "[1] Standard Errors assume that the covariance matrix of the errors is correctly specified.\n",
      "[2] The condition number is large, 4.97e+03. This might indicate that there are\n",
      "strong multicollinearity or other numerical problems.\n"
     ]
    }
   ],
   "source": [
    "X2 = sm.add_constant(df.sqft)\n",
    "est = sm.OLS(df.taxvaluedollarcnt, X2)\n",
    "est2 = est.fit()\n",
    "print(est2.summary())"
   ]
  },
  {
   "cell_type": "markdown",
   "id": "d885e5a4",
   "metadata": {},
   "source": [
    "# takeaways\n",
    "- OLS Regression Model outperformed baseline model on test using RMSE as evaluation metric.\n",
    "\n",
    "- OLS Regression Model RMSE: 282069.0\n",
    "\n",
    "- Baseline Regression Model: 347215.4"
   ]
  },
  {
   "cell_type": "markdown",
   "id": "079f1a03",
   "metadata": {},
   "source": [
    "### 9) Create a file named evaluate.py that contains the following functions.\n",
    "\n",
    "- plot_residuals(y, yhat): creates a residual plot\n",
    "- regression_errors(y, yhat): returns the following values:\n",
    "- sum of squared errors (SSE)\n",
    "- explained sum of squares (ESS)\n",
    "- total sum of squares (TSS)\n",
    "- mean squared error (MSE)\n",
    "- root mean squared error (RMSE)\n",
    "- baseline_mean_errors(y): computes the SSE, MSE, and RMSE for the baseline model\n",
    "- better_than_baseline(y, yhat): returns true if your model performs better than the baseline, otherwise false"
   ]
  },
  {
   "cell_type": "code",
   "execution_count": 44,
   "id": "753ff052",
   "metadata": {},
   "outputs": [
    {
     "data": {
      "image/png": "[encoded data removed]",
      "text/plain": [
       "<Figure size 1080x432 with 1 Axes>"
      ]
     },
     "metadata": {},
     "output_type": "display_data"
    }
   ],
   "source": [
    "import evaluate"
   ]
  },
  {
   "cell_type": "code",
   "execution_count": 45,
   "id": "f8f6b6b2",
   "metadata": {},
   "outputs": [
    {
     "data": {
      "image/png": "[encoded data removed]",
      "text/plain": [
       "<Figure size 1080x432 with 1 Axes>"
      ]
     },
     "metadata": {},
     "output_type": "display_data"
    }
   ],
   "source": [
    "# def plot_residuals(actual, predicted):\n",
    "#     residuals = actual - predicted\n",
    "#     plt.hlines(0, actual.min(), actual.max(), ls=':')\n",
    "#     plt.scatter(actual, residuals)\n",
    "#     plt.ylabel('residual ($y - \\hat{y}$)')\n",
    "#     plt.xlabel('actual value ($y$)')\n",
    "#     plt.title('Actual vs Residual')\n",
    "#     plt.show()\n",
    "\n",
    "plot_residuals(actual, predicted)"
   ]
  },
  {
   "cell_type": "code",
   "execution_count": 34,
   "id": "73c03312",
   "metadata": {},
   "outputs": [],
   "source": [
    "# regression_errors(y, yhat): returns the following values:\n",
    "# returns residuals\n",
    "def residuals(actual, predicted):\n",
    "    return actual - predicted\n",
    "\n",
    "#sum of squared errors (SSE)\n",
    "def sse(actual, predicted):\n",
    "    return (residuals(actual, predicted) **2).sum()\n",
    "\n",
    "#explained sum of squares (ESS)\n",
    "def ess(actual, predicted):\n",
    "    return ((predicted - actual.mean()) ** 2).sum()\n",
    "\n",
    "#total sum of squares (TSS)\n",
    "def tss(actual):\n",
    "    return ((actual - actual.mean()) ** 2).sum()\n",
    "\n",
    "#mean squared error (MSE)\n",
    "def mse(actual, predicted):\n",
    "    n = actual.shape[0]\n",
    "    return sse(actual, predicted) / n\n",
    "\n",
    "#root mean squared error (RMSE)\n",
    "def rmse(actual, predicted):\n",
    "    return math.sqrt(mse(actual, predicted))\n",
    "\n",
    "# returns r2 score\n",
    "def r2_score(actual, predicted):\n",
    "    return ess(actual, predicted) / tss(actual)\n",
    "#_____________________________________________________________________________________\n",
    "def regression_errors(actual, predicted):\n",
    "    return pd.Series({\n",
    "        'SSE': sse(actual, predicted),\n",
    "        'ESS': ess(actual, predicted),\n",
    "        'TSS': tss(actual),\n",
    "        'MSE': mse(actual, predicted),\n",
    "        'RMSE': rmse(actual, predicted),\n",
    "    })\n",
    "\n",
    "def baseline_mean_errors(actual):\n",
    "    predicted = actual.mean()\n",
    "    return {\n",
    "        'SSE': sse(actual, predicted),\n",
    "        'MSE': mse(actual, predicted),\n",
    "        'RMSE': rmse(actual, predicted),\n",
    "    }\n",
    "\n",
    "def better_than_baseline(actual, predicted):\n",
    "    rmse_baseline = rmse(actual, actual.mean())\n",
    "    rmse_model = rmse(actual, predicted)\n",
    "    return rmse_model < rmse_baseline"
   ]
  },
  {
   "cell_type": "code",
   "execution_count": null,
   "id": "7baec748",
   "metadata": {},
   "outputs": [],
   "source": []
  }
 ],
 "metadata": {
  "kernelspec": {
   "display_name": "Python 3 (ipykernel)",
   "language": "python",
   "name": "python3"
  },
  "language_info": {
   "codemirror_mode": {
    "name": "ipython",
    "version": 3
   },
   "file_extension": ".py",
   "mimetype": "text/x-python",
   "name": "python",
   "nbconvert_exporter": "python",
   "pygments_lexer": "ipython3",
   "version": "3.9.7"
  }
 },
 "nbformat": 4,
 "nbformat_minor": 5
}
